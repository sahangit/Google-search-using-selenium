{
 "cells": [
  {
   "cell_type": "code",
   "execution_count": 4,
   "id": "c1d15247",
   "metadata": {},
   "outputs": [
    {
     "name": "stdout",
     "output_type": "stream",
     "text": [
      "Collecting selenium\n",
      "  Using cached selenium-3.141.0-py2.py3-none-any.whl (904 kB)\n",
      "Requirement already satisfied: urllib3 in c:\\users\\mendi\\anaconda3\\lib\\site-packages (from selenium) (1.26.4)\n",
      "Installing collected packages: selenium\n",
      "Successfully installed selenium-3.141.0\n",
      "Note: you may need to restart the kernel to use updated packages.\n"
     ]
    }
   ],
   "source": [
    "pip install selenium\n"
   ]
  },
  {
   "cell_type": "code",
   "execution_count": 6,
   "id": "cc5ada15",
   "metadata": {},
   "outputs": [
    {
     "name": "stdout",
     "output_type": "stream",
     "text": [
      "Collecting wget\n",
      "  Using cached wget-3.2.zip (10 kB)\n",
      "Building wheels for collected packages: wget\n",
      "  Building wheel for wget (setup.py): started\n",
      "  Building wheel for wget (setup.py): finished with status 'done'\n",
      "Note: you may need to restart the kernel to use updated packages.\n",
      "  Created wheel for wget: filename=wget-3.2-py3-none-any.whl size=9680 sha256=f9de6edc34a1eb838623e6d1e83ee3747e675410176d2b63733087d8179bad00\n",
      "  Stored in directory: c:\\users\\mendi\\appdata\\local\\pip\\cache\\wheels\\bd\\a8\\c3\\3cf2c14a1837a4e04bd98631724e81f33f462d86a1d895fae0\n",
      "Successfully built wget\n",
      "Installing collected packages: wget\n",
      "Successfully installed wget-3.2\n"
     ]
    }
   ],
   "source": [
    "pip install wget"
   ]
  },
  {
   "cell_type": "code",
   "execution_count": 13,
   "id": "f87c938d",
   "metadata": {},
   "outputs": [],
   "source": [
    "import selenium\n",
    "from selenium import webdriver\n",
    "import sys\n",
    "\n",
    "# function to convert a list into string\n",
    "def convert(s):\n",
    "\tstr1 = \"\"\n",
    "\treturn(str1.join(s))\n",
    "\t\t\n",
    "# Assign the arguments passed to a variable search_string\n",
    "search_string = sys.argv[1:]\n",
    "\n",
    "# The argument passed to the program is accepted\n",
    "# as list, it is needed to convert that into string\n",
    "search_string = convert(search_string)\n",
    "\n",
    "# This is done to structure the string\n",
    "# into search url.(This can be ignored)\n",
    "search_string = 'machine learning'\n",
    "\n",
    "\n",
    "# Assigning the browser variable with chromedriver of Chrome.\n",
    "# Any other browser and its respective webdriver\n",
    "# like geckodriver for Mozilla Firefox can be used\n",
    "browser = webdriver.Chrome('chromedriver')\n",
    "\n",
    "\n",
    "for i in range(1):\n",
    "\tmatched_elements = browser.get(\"https://news.google.com/search?q\" +\n",
    "\t\t\t\t\t\t\t\tsearch_string + \"&start=\" + str(i))"
   ]
  },
  {
   "cell_type": "code",
   "execution_count": null,
   "id": "7d541097",
   "metadata": {},
   "outputs": [],
   "source": []
  },
  {
   "cell_type": "code",
   "execution_count": null,
   "id": "464a41ee",
   "metadata": {},
   "outputs": [],
   "source": []
  }
 ],
 "metadata": {
  "kernelspec": {
   "display_name": "Python 3",
   "language": "python",
   "name": "python3"
  },
  "language_info": {
   "codemirror_mode": {
    "name": "ipython",
    "version": 3
   },
   "file_extension": ".py",
   "mimetype": "text/x-python",
   "name": "python",
   "nbconvert_exporter": "python",
   "pygments_lexer": "ipython3",
   "version": "3.8.8"
  }
 },
 "nbformat": 4,
 "nbformat_minor": 5
}
